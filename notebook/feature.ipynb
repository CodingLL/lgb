{
 "cells": [
  {
   "cell_type": "code",
   "execution_count": 53,
   "metadata": {},
   "outputs": [],
   "source": [
    "import os, json, collections, copy\n",
    "import pandas as pd\n",
    "import numpy as np\n",
    "from ast import literal_eval"
   ]
  },
  {
   "cell_type": "code",
   "execution_count": 66,
   "metadata": {},
   "outputs": [
    {
     "name": "stdout",
     "output_type": "stream",
     "text": [
      "(1221, 4)\n"
     ]
    },
    {
     "data": {
      "text/html": [
       "<div>\n",
       "<style scoped>\n",
       "    .dataframe tbody tr th:only-of-type {\n",
       "        vertical-align: middle;\n",
       "    }\n",
       "\n",
       "    .dataframe tbody tr th {\n",
       "        vertical-align: top;\n",
       "    }\n",
       "\n",
       "    .dataframe thead th {\n",
       "        text-align: right;\n",
       "    }\n",
       "</style>\n",
       "<table border=\"1\" class=\"dataframe\">\n",
       "  <thead>\n",
       "    <tr style=\"text-align: right;\">\n",
       "      <th></th>\n",
       "      <th>claim_estimations</th>\n",
       "      <th>predicate_estimations</th>\n",
       "      <th>label</th>\n",
       "      <th>fold</th>\n",
       "    </tr>\n",
       "  </thead>\n",
       "  <tbody>\n",
       "    <tr>\n",
       "      <th>0</th>\n",
       "      <td>[{'domain': 'gallup.com', 'factual_reporting':...</td>\n",
       "      <td>[]</td>\n",
       "      <td>1</td>\n",
       "      <td>3.0</td>\n",
       "    </tr>\n",
       "    <tr>\n",
       "      <th>1</th>\n",
       "      <td>[{'domain': 'cnn.com', 'factual_reporting': 'M...</td>\n",
       "      <td>[]</td>\n",
       "      <td>1</td>\n",
       "      <td>2.0</td>\n",
       "    </tr>\n",
       "  </tbody>\n",
       "</table>\n",
       "</div>"
      ],
      "text/plain": [
       "                                   claim_estimations predicate_estimations  \\\n",
       "0  [{'domain': 'gallup.com', 'factual_reporting':...                    []   \n",
       "1  [{'domain': 'cnn.com', 'factual_reporting': 'M...                    []   \n",
       "\n",
       "   label  fold  \n",
       "0      1   3.0  \n",
       "1      1   2.0  "
      ]
     },
     "execution_count": 66,
     "metadata": {},
     "output_type": "execute_result"
    }
   ],
   "source": [
    "filepath = 'data/buzzfeed_1267_gpt.csv'\n",
    "df = pd.read_csv(filepath)\n",
    "print(df.shape)\n",
    "df.head(2)"
   ]
  },
  {
   "cell_type": "code",
   "execution_count": 81,
   "metadata": {},
   "outputs": [
    {
     "data": {
      "text/plain": [
       "18.078125"
      ]
     },
     "execution_count": 81,
     "metadata": {},
     "output_type": "execute_result"
    }
   ],
   "source": [
    "(1221-64) / 64"
   ]
  },
  {
   "cell_type": "code",
   "execution_count": 67,
   "metadata": {},
   "outputs": [],
   "source": [
    "full_code_set = set()\n",
    "for index, row in df.iterrows():\n",
    "    dic = row.to_dict()\n",
    "    claim_estimations = literal_eval(dic['claim_estimations'])\n",
    "    for est in claim_estimations:\n",
    "        full_code_set.add(est['full_code'])"
   ]
  },
  {
   "cell_type": "code",
   "execution_count": 39,
   "metadata": {},
   "outputs": [
    {
     "data": {
      "text/plain": [
       "48"
      ]
     },
     "execution_count": 39,
     "metadata": {},
     "output_type": "execute_result"
    }
   ],
   "source": [
    "len(full_code_set)"
   ]
  },
  {
   "cell_type": "code",
   "execution_count": 70,
   "metadata": {},
   "outputs": [
    {
     "data": {
      "text/plain": [
       "\"['', 'LocalLife6', 'NatLife1', 'NatNews1', 'LocalInfo2', 'LocalInfo3', 'NatInfo11', 'NatInfo3', 'NatCom2', 'NatInfo2', 'NatLife6', 'LocalNews6', 'NatNews3', 'NatLife2', 'LocalNews1', 'Foreign', 'LocalLife1', 'LocalCom1', 'NatNews2', 'LocalNews3', 'Unable to Review', 'NatNews6', 'LocalCom6', 'NatNews5', 'LocalInfo6', 'LocalNews2', 'LocalLife3', 'LocalCom4', 'NatNews10', 'NatCom6', 'NatLife5', 'NatInfo1', 'LocalNews5', 'REVIEW', 'NatLife7', 'BLOCK', 'LocalNews7', 'LocalLife5', 'LocalInfo8', 'NatLife8', 'NatLife4', 'NatCom1', 'NatNews4', 'LocalInfo1', 'LocalLife7', 'LocalNews4', 'LocalCom3', 'NatCom5']\""
      ]
     },
     "execution_count": 70,
     "metadata": {},
     "output_type": "execute_result"
    }
   ],
   "source": [
    "str(list(full_code_set))"
   ]
  },
  {
   "cell_type": "code",
   "execution_count": 41,
   "metadata": {},
   "outputs": [
    {
     "data": {
      "text/plain": [
       "(62, 4)"
      ]
     },
     "execution_count": 41,
     "metadata": {},
     "output_type": "execute_result"
    }
   ],
   "source": [
    "df.loc[df['label']==0, :].shape"
   ]
  },
  {
   "cell_type": "code",
   "execution_count": 57,
   "metadata": {},
   "outputs": [
    {
     "name": "stdout",
     "output_type": "stream",
     "text": [
      "1221\n"
     ]
    }
   ],
   "source": [
    "new_data = []\n",
    "for index, row in df.iterrows():\n",
    "    dic = row.to_dict()\n",
    "    claim_estimations = literal_eval(dic['claim_estimations'])\n",
    "    support_or_negate_stat = {'support': 0, 'baseless': 0, 'negate': 0}\n",
    "    for est in claim_estimations:\n",
    "        full_code_set.add(est['full_code'])\n",
    "        support_or_negate = est['support_or_negate']\n",
    "        support_or_negate_stat[f'{support_or_negate}'] += 1\n",
    "    for k, v in support_or_negate_stat.items():\n",
    "        dic[k] = v\n",
    "    new_data.append(dic)\n",
    "print(len(new_data))\n",
    "new_df = pd.DataFrame(new_data)\n",
    "        "
   ]
  },
  {
   "cell_type": "code",
   "execution_count": 58,
   "metadata": {},
   "outputs": [
    {
     "data": {
      "text/plain": [
       "{'support': 3, 'baseless': 4, 'negate': 0}"
      ]
     },
     "execution_count": 58,
     "metadata": {},
     "output_type": "execute_result"
    }
   ],
   "source": [
    "support_or_negate_stat"
   ]
  },
  {
   "cell_type": "code",
   "execution_count": 60,
   "metadata": {},
   "outputs": [
    {
     "data": {
      "text/html": [
       "<div>\n",
       "<style scoped>\n",
       "    .dataframe tbody tr th:only-of-type {\n",
       "        vertical-align: middle;\n",
       "    }\n",
       "\n",
       "    .dataframe tbody tr th {\n",
       "        vertical-align: top;\n",
       "    }\n",
       "\n",
       "    .dataframe thead th {\n",
       "        text-align: right;\n",
       "    }\n",
       "</style>\n",
       "<table border=\"1\" class=\"dataframe\">\n",
       "  <thead>\n",
       "    <tr style=\"text-align: right;\">\n",
       "      <th></th>\n",
       "      <th>claim_estimations</th>\n",
       "      <th>predicate_estimations</th>\n",
       "      <th>label</th>\n",
       "      <th>fold</th>\n",
       "      <th>support</th>\n",
       "      <th>baseless</th>\n",
       "      <th>negate</th>\n",
       "    </tr>\n",
       "  </thead>\n",
       "  <tbody>\n",
       "    <tr>\n",
       "      <th>0</th>\n",
       "      <td>[{'domain': 'gallup.com', 'factual_reporting':...</td>\n",
       "      <td>[]</td>\n",
       "      <td>1</td>\n",
       "      <td>3.0</td>\n",
       "      <td>6</td>\n",
       "      <td>5</td>\n",
       "      <td>0</td>\n",
       "    </tr>\n",
       "    <tr>\n",
       "      <th>1</th>\n",
       "      <td>[{'domain': 'cnn.com', 'factual_reporting': 'M...</td>\n",
       "      <td>[]</td>\n",
       "      <td>1</td>\n",
       "      <td>2.0</td>\n",
       "      <td>5</td>\n",
       "      <td>2</td>\n",
       "      <td>0</td>\n",
       "    </tr>\n",
       "  </tbody>\n",
       "</table>\n",
       "</div>"
      ],
      "text/plain": [
       "                                   claim_estimations predicate_estimations  \\\n",
       "0  [{'domain': 'gallup.com', 'factual_reporting':...                    []   \n",
       "1  [{'domain': 'cnn.com', 'factual_reporting': 'M...                    []   \n",
       "\n",
       "   label  fold  support  baseless  negate  \n",
       "0      1   3.0        6         5       0  \n",
       "1      1   2.0        5         2       0  "
      ]
     },
     "execution_count": 60,
     "metadata": {},
     "output_type": "execute_result"
    }
   ],
   "source": [
    "new_df.head(2)"
   ]
  },
  {
   "cell_type": "code",
   "execution_count": 61,
   "metadata": {},
   "outputs": [
    {
     "data": {
      "text/html": [
       "<div>\n",
       "<style scoped>\n",
       "    .dataframe tbody tr th:only-of-type {\n",
       "        vertical-align: middle;\n",
       "    }\n",
       "\n",
       "    .dataframe tbody tr th {\n",
       "        vertical-align: top;\n",
       "    }\n",
       "\n",
       "    .dataframe thead th {\n",
       "        text-align: right;\n",
       "    }\n",
       "</style>\n",
       "<table border=\"1\" class=\"dataframe\">\n",
       "  <thead>\n",
       "    <tr style=\"text-align: right;\">\n",
       "      <th></th>\n",
       "      <th>fold</th>\n",
       "      <th>support</th>\n",
       "      <th>baseless</th>\n",
       "      <th>negate</th>\n",
       "    </tr>\n",
       "    <tr>\n",
       "      <th>label</th>\n",
       "      <th></th>\n",
       "      <th></th>\n",
       "      <th></th>\n",
       "      <th></th>\n",
       "    </tr>\n",
       "  </thead>\n",
       "  <tbody>\n",
       "    <tr>\n",
       "      <th>0</th>\n",
       "      <td>2.000000</td>\n",
       "      <td>0.661290</td>\n",
       "      <td>5.016129</td>\n",
       "      <td>1.774194</td>\n",
       "    </tr>\n",
       "    <tr>\n",
       "      <th>1</th>\n",
       "      <td>1.998274</td>\n",
       "      <td>4.241588</td>\n",
       "      <td>3.222606</td>\n",
       "      <td>0.522002</td>\n",
       "    </tr>\n",
       "  </tbody>\n",
       "</table>\n",
       "</div>"
      ],
      "text/plain": [
       "           fold   support  baseless    negate\n",
       "label                                        \n",
       "0      2.000000  0.661290  5.016129  1.774194\n",
       "1      1.998274  4.241588  3.222606  0.522002"
      ]
     },
     "execution_count": 61,
     "metadata": {},
     "output_type": "execute_result"
    }
   ],
   "source": [
    "keys = ['support', 'baseless', 'negate']\n",
    "new_df.groupby('label').mean(keys)"
   ]
  },
  {
   "cell_type": "code",
   "execution_count": 46,
   "metadata": {},
   "outputs": [
    {
     "data": {
      "text/plain": [
       "'baseless'"
      ]
     },
     "execution_count": 46,
     "metadata": {},
     "output_type": "execute_result"
    }
   ],
   "source": [
    "est['support_or_negate']"
   ]
  },
  {
   "cell_type": "code",
   "execution_count": 42,
   "metadata": {},
   "outputs": [
    {
     "data": {
      "text/html": [
       "<div>\n",
       "<style scoped>\n",
       "    .dataframe tbody tr th:only-of-type {\n",
       "        vertical-align: middle;\n",
       "    }\n",
       "\n",
       "    .dataframe tbody tr th {\n",
       "        vertical-align: top;\n",
       "    }\n",
       "\n",
       "    .dataframe thead th {\n",
       "        text-align: right;\n",
       "    }\n",
       "</style>\n",
       "<table border=\"1\" class=\"dataframe\">\n",
       "  <thead>\n",
       "    <tr style=\"text-align: right;\">\n",
       "      <th></th>\n",
       "      <th>claim_estimations</th>\n",
       "      <th>predicate_estimations</th>\n",
       "      <th>label</th>\n",
       "      <th>fold</th>\n",
       "    </tr>\n",
       "  </thead>\n",
       "  <tbody>\n",
       "    <tr>\n",
       "      <th>122</th>\n",
       "      <td>[{'domain': 'nbcnews.com', 'factual_reporting'...</td>\n",
       "      <td>[]</td>\n",
       "      <td>0</td>\n",
       "      <td>0.0</td>\n",
       "    </tr>\n",
       "    <tr>\n",
       "      <th>142</th>\n",
       "      <td>[{'domain': 'reuters.com', 'factual_reporting'...</td>\n",
       "      <td>[]</td>\n",
       "      <td>0</td>\n",
       "      <td>0.0</td>\n",
       "    </tr>\n",
       "    <tr>\n",
       "      <th>151</th>\n",
       "      <td>[{'domain': 'washingtonpost.com', 'factual_rep...</td>\n",
       "      <td>[]</td>\n",
       "      <td>0</td>\n",
       "      <td>1.0</td>\n",
       "    </tr>\n",
       "    <tr>\n",
       "      <th>426</th>\n",
       "      <td>[{'domain': 'foxnews.com', 'factual_reporting'...</td>\n",
       "      <td>[]</td>\n",
       "      <td>0</td>\n",
       "      <td>0.0</td>\n",
       "    </tr>\n",
       "    <tr>\n",
       "      <th>431</th>\n",
       "      <td>[{'domain': 'thelist.com', 'factual_reporting'...</td>\n",
       "      <td>[]</td>\n",
       "      <td>0</td>\n",
       "      <td>2.0</td>\n",
       "    </tr>\n",
       "    <tr>\n",
       "      <th>...</th>\n",
       "      <td>...</td>\n",
       "      <td>...</td>\n",
       "      <td>...</td>\n",
       "      <td>...</td>\n",
       "    </tr>\n",
       "    <tr>\n",
       "      <th>1165</th>\n",
       "      <td>[{'domain': 'okmagazine.com', 'factual_reporti...</td>\n",
       "      <td>[]</td>\n",
       "      <td>0</td>\n",
       "      <td>4.0</td>\n",
       "    </tr>\n",
       "    <tr>\n",
       "      <th>1184</th>\n",
       "      <td>[{'domain': 'espn.com', 'factual_reporting': '...</td>\n",
       "      <td>[]</td>\n",
       "      <td>0</td>\n",
       "      <td>4.0</td>\n",
       "    </tr>\n",
       "    <tr>\n",
       "      <th>1186</th>\n",
       "      <td>[{'domain': 'washingtonpost.com', 'factual_rep...</td>\n",
       "      <td>[]</td>\n",
       "      <td>0</td>\n",
       "      <td>0.0</td>\n",
       "    </tr>\n",
       "    <tr>\n",
       "      <th>1188</th>\n",
       "      <td>[{'domain': 'politifact.com', 'factual_reporti...</td>\n",
       "      <td>[]</td>\n",
       "      <td>0</td>\n",
       "      <td>1.0</td>\n",
       "    </tr>\n",
       "    <tr>\n",
       "      <th>1191</th>\n",
       "      <td>[{'domain': 'bbc.com', 'factual_reporting': 'H...</td>\n",
       "      <td>[]</td>\n",
       "      <td>0</td>\n",
       "      <td>3.0</td>\n",
       "    </tr>\n",
       "  </tbody>\n",
       "</table>\n",
       "<p>62 rows × 4 columns</p>\n",
       "</div>"
      ],
      "text/plain": [
       "                                      claim_estimations predicate_estimations  \\\n",
       "122   [{'domain': 'nbcnews.com', 'factual_reporting'...                    []   \n",
       "142   [{'domain': 'reuters.com', 'factual_reporting'...                    []   \n",
       "151   [{'domain': 'washingtonpost.com', 'factual_rep...                    []   \n",
       "426   [{'domain': 'foxnews.com', 'factual_reporting'...                    []   \n",
       "431   [{'domain': 'thelist.com', 'factual_reporting'...                    []   \n",
       "...                                                 ...                   ...   \n",
       "1165  [{'domain': 'okmagazine.com', 'factual_reporti...                    []   \n",
       "1184  [{'domain': 'espn.com', 'factual_reporting': '...                    []   \n",
       "1186  [{'domain': 'washingtonpost.com', 'factual_rep...                    []   \n",
       "1188  [{'domain': 'politifact.com', 'factual_reporti...                    []   \n",
       "1191  [{'domain': 'bbc.com', 'factual_reporting': 'H...                    []   \n",
       "\n",
       "      label  fold  \n",
       "122       0   0.0  \n",
       "142       0   0.0  \n",
       "151       0   1.0  \n",
       "426       0   0.0  \n",
       "431       0   2.0  \n",
       "...     ...   ...  \n",
       "1165      0   4.0  \n",
       "1184      0   4.0  \n",
       "1186      0   0.0  \n",
       "1188      0   1.0  \n",
       "1191      0   3.0  \n",
       "\n",
       "[62 rows x 4 columns]"
      ]
     },
     "execution_count": 42,
     "metadata": {},
     "output_type": "execute_result"
    }
   ],
   "source": [
    "df.loc[df['label']==0, :]"
   ]
  },
  {
   "cell_type": "code",
   "execution_count": null,
   "metadata": {},
   "outputs": [],
   "source": [
    "# block, foreign -1\n",
    "# 1, 2 1\n",
    "# else 0.5"
   ]
  },
  {
   "cell_type": "code",
   "execution_count": null,
   "metadata": {},
   "outputs": [],
   "source": [
    "full_code_set"
   ]
  },
  {
   "cell_type": "markdown",
   "metadata": {},
   "source": [
    "# 看一下数据分布"
   ]
  },
  {
   "cell_type": "code",
   "execution_count": 78,
   "metadata": {},
   "outputs": [
    {
     "name": "stdout",
     "output_type": "stream",
     "text": [
      "(1221, 5)\n"
     ]
    }
   ],
   "source": [
    "filepath = '/home/services/siliang/lgb/exp/buzzfeed_1267_gpt_2fold/result.csv'\n",
    "df = pd.read_csv(filepath)\n",
    "print(df.shape)"
   ]
  },
  {
   "cell_type": "code",
   "execution_count": 79,
   "metadata": {},
   "outputs": [
    {
     "data": {
      "text/html": [
       "<div>\n",
       "<style scoped>\n",
       "    .dataframe tbody tr th:only-of-type {\n",
       "        vertical-align: middle;\n",
       "    }\n",
       "\n",
       "    .dataframe tbody tr th {\n",
       "        vertical-align: top;\n",
       "    }\n",
       "\n",
       "    .dataframe thead th {\n",
       "        text-align: right;\n",
       "    }\n",
       "</style>\n",
       "<table border=\"1\" class=\"dataframe\">\n",
       "  <thead>\n",
       "    <tr style=\"text-align: right;\">\n",
       "      <th></th>\n",
       "      <th>mv</th>\n",
       "      <th>preds</th>\n",
       "      <th>fold</th>\n",
       "      <th>label</th>\n",
       "      <th>pred_label</th>\n",
       "    </tr>\n",
       "  </thead>\n",
       "  <tbody>\n",
       "    <tr>\n",
       "      <th>0</th>\n",
       "      <td>support</td>\n",
       "      <td>0.97428</td>\n",
       "      <td>0</td>\n",
       "      <td>1</td>\n",
       "      <td>1</td>\n",
       "    </tr>\n",
       "  </tbody>\n",
       "</table>\n",
       "</div>"
      ],
      "text/plain": [
       "        mv    preds  fold  label  pred_label\n",
       "0  support  0.97428     0      1           1"
      ]
     },
     "execution_count": 79,
     "metadata": {},
     "output_type": "execute_result"
    }
   ],
   "source": [
    "df.head(1)"
   ]
  },
  {
   "cell_type": "code",
   "execution_count": 80,
   "metadata": {},
   "outputs": [
    {
     "data": {
      "text/html": [
       "<div>\n",
       "<style scoped>\n",
       "    .dataframe tbody tr th:only-of-type {\n",
       "        vertical-align: middle;\n",
       "    }\n",
       "\n",
       "    .dataframe tbody tr th {\n",
       "        vertical-align: top;\n",
       "    }\n",
       "\n",
       "    .dataframe thead th {\n",
       "        text-align: right;\n",
       "    }\n",
       "</style>\n",
       "<table border=\"1\" class=\"dataframe\">\n",
       "  <thead>\n",
       "    <tr style=\"text-align: right;\">\n",
       "      <th></th>\n",
       "      <th>claim_estimations</th>\n",
       "      <th>predicate_estimations</th>\n",
       "      <th>label</th>\n",
       "      <th>fold</th>\n",
       "    </tr>\n",
       "  </thead>\n",
       "  <tbody>\n",
       "    <tr>\n",
       "      <th>0</th>\n",
       "      <td>[{'domain': 'gallup.com', 'factual_reporting':...</td>\n",
       "      <td>[]</td>\n",
       "      <td>1</td>\n",
       "      <td>3.0</td>\n",
       "    </tr>\n",
       "    <tr>\n",
       "      <th>1</th>\n",
       "      <td>[{'domain': 'cnn.com', 'factual_reporting': 'M...</td>\n",
       "      <td>[]</td>\n",
       "      <td>1</td>\n",
       "      <td>2.0</td>\n",
       "    </tr>\n",
       "    <tr>\n",
       "      <th>2</th>\n",
       "      <td>[{'domain': 'timesofisrael.com', 'factual_repo...</td>\n",
       "      <td>[]</td>\n",
       "      <td>1</td>\n",
       "      <td>2.0</td>\n",
       "    </tr>\n",
       "    <tr>\n",
       "      <th>3</th>\n",
       "      <td>[{'domain': 'go.com', 'factual_reporting': 'HI...</td>\n",
       "      <td>[]</td>\n",
       "      <td>1</td>\n",
       "      <td>3.0</td>\n",
       "    </tr>\n",
       "    <tr>\n",
       "      <th>4</th>\n",
       "      <td>[{'domain': 'washingtonpost.com', 'factual_rep...</td>\n",
       "      <td>[]</td>\n",
       "      <td>1</td>\n",
       "      <td>2.0</td>\n",
       "    </tr>\n",
       "    <tr>\n",
       "      <th>...</th>\n",
       "      <td>...</td>\n",
       "      <td>...</td>\n",
       "      <td>...</td>\n",
       "      <td>...</td>\n",
       "    </tr>\n",
       "    <tr>\n",
       "      <th>1216</th>\n",
       "      <td>[{'domain': 'policemag.com', 'factual_reportin...</td>\n",
       "      <td>[]</td>\n",
       "      <td>1</td>\n",
       "      <td>2.0</td>\n",
       "    </tr>\n",
       "    <tr>\n",
       "      <th>1217</th>\n",
       "      <td>[{'domain': 'politico.com', 'factual_reporting...</td>\n",
       "      <td>[]</td>\n",
       "      <td>1</td>\n",
       "      <td>0.0</td>\n",
       "    </tr>\n",
       "    <tr>\n",
       "      <th>1218</th>\n",
       "      <td>[{'domain': 'theguardian.com', 'factual_report...</td>\n",
       "      <td>[]</td>\n",
       "      <td>1</td>\n",
       "      <td>0.0</td>\n",
       "    </tr>\n",
       "    <tr>\n",
       "      <th>1219</th>\n",
       "      <td>[{'domain': 'nydailynews.com', 'factual_report...</td>\n",
       "      <td>[]</td>\n",
       "      <td>1</td>\n",
       "      <td>0.0</td>\n",
       "    </tr>\n",
       "    <tr>\n",
       "      <th>1220</th>\n",
       "      <td>[{'domain': 'ketv.com', 'factual_reporting': '...</td>\n",
       "      <td>[]</td>\n",
       "      <td>1</td>\n",
       "      <td>1.0</td>\n",
       "    </tr>\n",
       "  </tbody>\n",
       "</table>\n",
       "<p>1221 rows × 4 columns</p>\n",
       "</div>"
      ],
      "text/plain": [
       "                                      claim_estimations predicate_estimations  \\\n",
       "0     [{'domain': 'gallup.com', 'factual_reporting':...                    []   \n",
       "1     [{'domain': 'cnn.com', 'factual_reporting': 'M...                    []   \n",
       "2     [{'domain': 'timesofisrael.com', 'factual_repo...                    []   \n",
       "3     [{'domain': 'go.com', 'factual_reporting': 'HI...                    []   \n",
       "4     [{'domain': 'washingtonpost.com', 'factual_rep...                    []   \n",
       "...                                                 ...                   ...   \n",
       "1216  [{'domain': 'policemag.com', 'factual_reportin...                    []   \n",
       "1217  [{'domain': 'politico.com', 'factual_reporting...                    []   \n",
       "1218  [{'domain': 'theguardian.com', 'factual_report...                    []   \n",
       "1219  [{'domain': 'nydailynews.com', 'factual_report...                    []   \n",
       "1220  [{'domain': 'ketv.com', 'factual_reporting': '...                    []   \n",
       "\n",
       "      label  fold  \n",
       "0         1   3.0  \n",
       "1         1   2.0  \n",
       "2         1   2.0  \n",
       "3         1   3.0  \n",
       "4         1   2.0  \n",
       "...     ...   ...  \n",
       "1216      1   2.0  \n",
       "1217      1   0.0  \n",
       "1218      1   0.0  \n",
       "1219      1   0.0  \n",
       "1220      1   1.0  \n",
       "\n",
       "[1221 rows x 4 columns]"
      ]
     },
     "execution_count": 80,
     "metadata": {},
     "output_type": "execute_result"
    }
   ],
   "source": [
    "pd.read_csv('/home/services/siliang/lgb/data/buzzfeed_1267_gpt.csv')"
   ]
  },
  {
   "cell_type": "code",
   "execution_count": null,
   "metadata": {},
   "outputs": [],
   "source": [
    "(df['label'].values())"
   ]
  },
  {
   "cell_type": "markdown",
   "metadata": {},
   "source": [
    "## gy train 0229"
   ]
  },
  {
   "cell_type": "code",
   "execution_count": 31,
   "metadata": {},
   "outputs": [
    {
     "name": "stdout",
     "output_type": "stream",
     "text": [
      "(1429, 4)\n"
     ]
    }
   ],
   "source": [
    "filepath = '/home/services/siliang/lgb/data/overall_training_0229_fold.csv'\n",
    "df = pd.read_csv(filepath)\n",
    "print(df.shape)"
   ]
  },
  {
   "cell_type": "code",
   "execution_count": 34,
   "metadata": {},
   "outputs": [
    {
     "data": {
      "text/plain": [
       "label\n",
       "1    717\n",
       "0    712\n",
       "Name: count, dtype: int64"
      ]
     },
     "execution_count": 34,
     "metadata": {},
     "output_type": "execute_result"
    }
   ],
   "source": [
    "df['label'].value_counts()"
   ]
  },
  {
   "cell_type": "code",
   "execution_count": null,
   "metadata": {},
   "outputs": [],
   "source": []
  }
 ],
 "metadata": {
  "kernelspec": {
   "display_name": "py10",
   "language": "python",
   "name": "python3"
  },
  "language_info": {
   "codemirror_mode": {
    "name": "ipython",
    "version": 3
   },
   "file_extension": ".py",
   "mimetype": "text/x-python",
   "name": "python",
   "nbconvert_exporter": "python",
   "pygments_lexer": "ipython3",
   "version": "3.10.12"
  }
 },
 "nbformat": 4,
 "nbformat_minor": 2
}
