{
 "cells": [
  {
   "cell_type": "code",
   "execution_count": 2,
   "metadata": {},
   "outputs": [],
   "source": [
    "import os, json, collections, copy\n",
    "import pandas as pd\n",
    "import numpy as np\n",
    "from ast import literal_eval\n",
    "from sklearn.metrics import recall_score, precision_score, f1_score, accuracy_score"
   ]
  },
  {
   "cell_type": "code",
   "execution_count": null,
   "metadata": {},
   "outputs": [],
   "source": [
    "filepath = '../data/buzzfeed_1267_gpt.csv'\n",
    "df = pd.read_csv(filepath)\n",
    "print(df.shape)\n",
    "df.head(2)\n",
    "\n",
    "filepath = '../data/buzzfeed182_gpt.csv'\n",
    "df2 = pd.read_csv(filepath)\n",
    "print(df2.shape)\n",
    "df2.head(2)"
   ]
  },
  {
   "cell_type": "code",
   "execution_count": null,
   "metadata": {},
   "outputs": [],
   "source": [
    "def get_mv_num(df):\n",
    "    new_data = []\n",
    "    for index, row in df.iterrows():\n",
    "        dic = row.to_dict()\n",
    "        claim_estimations = literal_eval(dic['claim_estimations'])\n",
    "        support_or_negate_stat = {'support': 0, 'baseless': 0, 'negate': 0}\n",
    "        for est in claim_estimations:\n",
    "            support_or_negate = est['support_or_negate']\n",
    "            support_or_negate_stat[f'{support_or_negate}'] += 1\n",
    "        for k, v in support_or_negate_stat.items():\n",
    "            dic[k] = v\n",
    "        new_data.append(dic)\n",
    "    print(len(new_data))\n",
    "    new_df = pd.DataFrame(new_data)\n",
    "    return new_df\n",
    "new_df = get_mv_num(df)\n",
    "new_df2 = get_mv_num(df2)"
   ]
  },
  {
   "cell_type": "code",
   "execution_count": null,
   "metadata": {},
   "outputs": [],
   "source": [
    "new_df.head()"
   ]
  },
  {
   "cell_type": "code",
   "execution_count": null,
   "metadata": {},
   "outputs": [],
   "source": [
    "keys = ['support', 'baseless', 'negate']\n",
    "print('------------buzzfeed16k------------')\n",
    "print(new_df.groupby('label')[keys].mean())\n",
    "print('------------buzzfeed182------------')\n",
    "print(new_df2.groupby('label')[keys].mean())"
   ]
  },
  {
   "cell_type": "code",
   "execution_count": null,
   "metadata": {},
   "outputs": [],
   "source": [
    "total_data = []\n",
    "filepath = '/home/services/siliang/ml_fakenews/data/buzzfeed182_gpt.jsonl'\n",
    "with open(filepath) as f:\n",
    "    for line in f:\n",
    "        dic = json.loads(line)\n",
    "        total_data.append(dic)\n",
    "print(len(total_data))"
   ]
  },
  {
   "cell_type": "code",
   "execution_count": null,
   "metadata": {},
   "outputs": [],
   "source": [
    "total_data[0]['gpt'].keys()"
   ]
  },
  {
   "cell_type": "code",
   "execution_count": null,
   "metadata": {},
   "outputs": [],
   "source": [
    "filepath = '/home/services/siliang/ml_fakenews/exp/buzzfeed182_gpt/result.csv'\n",
    "df = pd.read_csv(filepath)\n",
    "print(df.shape)\n",
    "df.head(1)"
   ]
  },
  {
   "cell_type": "code",
   "execution_count": null,
   "metadata": {},
   "outputs": [],
   "source": [
    "filepath = '/home/services/siliang/ml_fakenews/data/buzzfeed182_gpt.csv'\n",
    "df = pd.read_csv(filepath)\n",
    "print(df.shape)\n",
    "df.head(1)"
   ]
  },
  {
   "cell_type": "markdown",
   "metadata": {},
   "source": [
    "## 没搜到的case"
   ]
  },
  {
   "cell_type": "code",
   "execution_count": null,
   "metadata": {},
   "outputs": [],
   "source": [
    "total_data = []\n",
    "filepath = '/home/services/siliang/ml_fakenews/data/buzzfeed182_gpt.jsonl'\n",
    "with open(filepath) as f:\n",
    "    for line in f:\n",
    "        dic = json.loads(line)\n",
    "        total_data.append(dic)\n",
    "print(len(total_data))"
   ]
  },
  {
   "cell_type": "code",
   "execution_count": null,
   "metadata": {},
   "outputs": [],
   "source": [
    "no_fea = []\n",
    "for d in total_data:\n",
    "    overall_predictions = d['gpt']['features']['claim_estimations']\n",
    "    if not overall_predictions:\n",
    "        no_fea.append(d)"
   ]
  },
  {
   "cell_type": "code",
   "execution_count": null,
   "metadata": {},
   "outputs": [],
   "source": [
    "np.max([])"
   ]
  },
  {
   "cell_type": "code",
   "execution_count": null,
   "metadata": {},
   "outputs": [],
   "source": [
    "df = pd.read_csv('/home/services/siliang/ml_fakenews/data/buzzfeed_1267_gpt_v2.csv')\n",
    "print(df.shape)"
   ]
  },
  {
   "cell_type": "code",
   "execution_count": null,
   "metadata": {},
   "outputs": [],
   "source": [
    "total_data = []\n",
    "filepath = '/home/services/siliang/ml_fakenews/data/buzzfeed182_gpt.jsonl'\n",
    "with open(filepath) as f:\n",
    "    for line in f:\n",
    "        dic = json.loads(line)\n",
    "        total_data.append(dic)\n",
    "# print(len(total_data))"
   ]
  },
  {
   "cell_type": "code",
   "execution_count": null,
   "metadata": {},
   "outputs": [],
   "source": [
    "titletextset = set()\n",
    "for d in total_data:\n",
    "    titletextset.add(d['title']+d['text'])\n",
    "print(len(titletextset))"
   ]
  },
  {
   "cell_type": "code",
   "execution_count": null,
   "metadata": {},
   "outputs": [],
   "source": [
    "total_data = []\n",
    "filepath = '../data/buzzfeed_1267_2model.jsonl'\n",
    "with open(filepath) as f:\n",
    "    for line in f:\n",
    "        dic = json.loads(line)\n",
    "        total_data.append(dic)\n",
    "print(total_data)\n",
    "\n",
    "titletextset = set()\n",
    "for d in total_data:\n",
    "    titletextset.add(d['title']+d['text'])\n",
    "print(len(titletextset))"
   ]
  },
  {
   "cell_type": "code",
   "execution_count": null,
   "metadata": {},
   "outputs": [],
   "source": [
    "print(len(titletextset))"
   ]
  },
  {
   "cell_type": "markdown",
   "metadata": {},
   "source": [
    "## 特征重复问题"
   ]
  },
  {
   "cell_type": "code",
   "execution_count": null,
   "metadata": {},
   "outputs": [],
   "source": [
    "filepath = '/home/services/siliang/ml_fakenews/data/buzzfeed182_gpt.csv'\n",
    "df = pd.read_csv(filepath)"
   ]
  },
  {
   "cell_type": "code",
   "execution_count": null,
   "metadata": {},
   "outputs": [],
   "source": [
    "df.shape"
   ]
  },
  {
   "cell_type": "code",
   "execution_count": null,
   "metadata": {},
   "outputs": [],
   "source": [
    "## 导出case看下规律\n",
    "filepath = '/home/services/siliang/ml_fakenews/exp/buzzfeed182_gpt_5fold/result.csv'\n",
    "df = pd.read_csv(filepath)\n",
    "print(df.shape)"
   ]
  },
  {
   "cell_type": "code",
   "execution_count": null,
   "metadata": {},
   "outputs": [],
   "source": [
    "df.head()"
   ]
  },
  {
   "cell_type": "code",
   "execution_count": null,
   "metadata": {},
   "outputs": [],
   "source": [
    "preds = list(df.preds.values)\n",
    "labels = list(df.label.values)"
   ]
  },
  {
   "cell_type": "code",
   "execution_count": null,
   "metadata": {},
   "outputs": [],
   "source": [
    "import warnings\n",
    "warnings.filterwarnings('ignore')\n",
    "thresholds = [i/100 for i in range(101)]\n",
    "best_f1 = 0\n",
    "for thrd in thresholds:\n",
    "    preds_bool = [i > thrd for i in preds]\n",
    "    recall = recall_score(labels, preds_bool)\n",
    "    precision = precision_score(labels, preds_bool)\n",
    "    f1 = f1_score(labels, preds_bool)\n",
    "    accuracy = accuracy_score(labels, preds_bool)\n",
    "    if f1 > best_f1:\n",
    "        best_thrd, best_recall, best_precision, best_f1, best_acc = thrd, recall, precision, f1, accuracy\n",
    "print('thrd: {:.4f} recall: {:.4f}, precision: {:.4f}, f1: {:.4f}, accuracy: {:.4f}'.format(best_thrd, best_recall, best_precision, best_f1, best_acc))"
   ]
  },
  {
   "cell_type": "code",
   "execution_count": null,
   "metadata": {},
   "outputs": [],
   "source": [
    "filepath = '../data/buzzfeed182_gpt.csv'\n",
    "df = pd.read_csv(filepath)\n",
    "df.head(1)"
   ]
  },
  {
   "cell_type": "code",
   "execution_count": null,
   "metadata": {},
   "outputs": [],
   "source": [
    "filepath = '/home/services/siliang/ml_fakenews/data/buzzfeed182_gpt_rerun_0314.csv'\n",
    "df = pd.read_csv(filepath)\n",
    "df.head(1)"
   ]
  },
  {
   "cell_type": "code",
   "execution_count": null,
   "metadata": {},
   "outputs": [],
   "source": [
    "snset = set()\n",
    "for index, row in df.iterrows():\n",
    "    for info in literal_eval(row['claim_estimations']):\n",
    "        support_or_negate = info['support_or_negate']\n",
    "        snset.add(support_or_negate)\n",
    "print(snset)"
   ]
  },
  {
   "cell_type": "code",
   "execution_count": null,
   "metadata": {},
   "outputs": [],
   "source": [
    "def get_support_medianum(domain_list):\n",
    "\n",
    "    support_list = []\n",
    "    for d in domain_list:\n",
    "        sn = d[\"support_or_negate\"]\n",
    "        sn = 1 if sn == \"support\" else -1 if sn == \"negate\" else 0\n",
    "        media_quality = d[\"media_quality\"]\n",
    "        if not media_quality:\n",
    "            media_quality = 3\n",
    "        # confidence = d[\"confidence\"]\n",
    "        if sn == 1:\n",
    "            support_list.append(media_quality)\n",
    "    # print(support_list)\n",
    "    if not support_list:\n",
    "        return 0, 0, 0, 0, 0, 0, 0, 0\n",
    "    return np.mean(support_list), np.max(support_list), np.min(support_list), np.sum(support_list), support_list.count(5), support_list.count(4), support_list.count(3), support_list.count(2), support_list.count(1)\n",
    "\n",
    "\n",
    "df[\"claim_estimations\"].apply(lambda x: pd.Series(get_support_medianum(literal_eval(x))))"
   ]
  },
  {
   "cell_type": "code",
   "execution_count": null,
   "metadata": {},
   "outputs": [],
   "source": [
    "filepath = '/home/services/siliang/ml_fakenews/data/buzzfeed182_gpt_rerun_0314_rationale.csv'\n",
    "df = pd.read_csv(filepath)\n",
    "df[\"gpt_rationale_score\"] = df[\"gpt_rating\"].apply(lambda x: eval(x)['rating'])# x['gpt_rating']['rating'])"
   ]
  },
  {
   "cell_type": "code",
   "execution_count": null,
   "metadata": {},
   "outputs": [],
   "source": [
    "total_data = []\n",
    "filepath = '/home/services/siliang/ml_fakenews/data/buzzfeed182_gpt_v2_rationale.jsonl'\n",
    "savepath = '/home/services/siliang/ml_fakenews/data/buzzfeed182_gpt_v2_rationale.csv'\n",
    "\n",
    "filepath = '/home/services/siliang/ml_fakenews/data/buzzfeed182_gpt_rerun_0314_rationale.jsonl'\n",
    "savepath= '/home/services/siliang/ml_fakenews/data/buzzfeed182_gpt_rerun_0314_rationale.csv'\n",
    "with open(filepath) as f:\n",
    "    for line in f:\n",
    "        dic = json.loads(line)\n",
    "        if not isinstance(dic['gpt_rating'],dict):\n",
    "            print(dic['gpt_rating'])\n",
    "            if not isinstance(dic['gpt_rating']['rating'], int):\n",
    "                print(dic['gpt_rating']['rating'])\n",
    "        total_data.append(dic)\n",
    "print(len(total_data))\n",
    "df = pd.DataFrame(total_data)\n",
    "df.to_csv(savepath)"
   ]
  },
  {
   "cell_type": "code",
   "execution_count": null,
   "metadata": {},
   "outputs": [],
   "source": [
    "[i['rating'] for i in df.loc[:, 'gpt_rating']]"
   ]
  },
  {
   "cell_type": "code",
   "execution_count": null,
   "metadata": {},
   "outputs": [],
   "source": [
    "filepath = '/home/services/siliang/ml_fakenews/data/buzzfeed182_gpt_v2_rationale.csv'\n",
    "df = pd.read_csv(filepath)\n",
    "df.head(1)"
   ]
  },
  {
   "cell_type": "code",
   "execution_count": null,
   "metadata": {},
   "outputs": [],
   "source": [
    "df[\"gpt_rationale_score\"] = df[\"gpt_rating\"].apply(lambda x: x['rating'])# x['gpt_rating']['rating'])"
   ]
  },
  {
   "cell_type": "code",
   "execution_count": null,
   "metadata": {},
   "outputs": [],
   "source": [
    "df[\"gpt_rationale_score\"] = df[[\"gpt_rating\"]].apply(lambda x: literal_eval(x['gpt_rating'])['rating'], axis=1)"
   ]
  },
  {
   "cell_type": "code",
   "execution_count": 11,
   "metadata": {},
   "outputs": [
    {
     "data": {
      "text/html": [
       "<div>\n",
       "<style scoped>\n",
       "    .dataframe tbody tr th:only-of-type {\n",
       "        vertical-align: middle;\n",
       "    }\n",
       "\n",
       "    .dataframe tbody tr th {\n",
       "        vertical-align: top;\n",
       "    }\n",
       "\n",
       "    .dataframe thead th {\n",
       "        text-align: right;\n",
       "    }\n",
       "</style>\n",
       "<table border=\"1\" class=\"dataframe\">\n",
       "  <thead>\n",
       "    <tr style=\"text-align: right;\">\n",
       "      <th></th>\n",
       "      <th>id</th>\n",
       "      <th>title</th>\n",
       "      <th>text</th>\n",
       "      <th>url</th>\n",
       "      <th>label</th>\n",
       "      <th>gpt</th>\n",
       "      <th>claim_estimations</th>\n",
       "      <th>predicate_estimations</th>\n",
       "      <th>fold</th>\n",
       "    </tr>\n",
       "  </thead>\n",
       "  <tbody>\n",
       "    <tr>\n",
       "      <th>0</th>\n",
       "      <td>real_0</td>\n",
       "      <td>ABC News Exclusive: Rand Paul Says Republicans...</td>\n",
       "      <td>Feb. 4, 2011 — -- In an exclusive interview wi...</td>\n",
       "      <td>http://abcnews.go.com/Politics/rand-paul-repub...</td>\n",
       "      <td>1</td>\n",
       "      <td>{'claim': 'Sen. Rand Paul criticizes the House...</td>\n",
       "      <td>[{'domain': 'thehill.com', 'url': 'https://the...</td>\n",
       "      <td>[]</td>\n",
       "      <td>1.0</td>\n",
       "    </tr>\n",
       "  </tbody>\n",
       "</table>\n",
       "</div>"
      ],
      "text/plain": [
       "       id                                              title  \\\n",
       "0  real_0  ABC News Exclusive: Rand Paul Says Republicans...   \n",
       "\n",
       "                                                text  \\\n",
       "0  Feb. 4, 2011 — -- In an exclusive interview wi...   \n",
       "\n",
       "                                                 url  label  \\\n",
       "0  http://abcnews.go.com/Politics/rand-paul-repub...      1   \n",
       "\n",
       "                                                 gpt  \\\n",
       "0  {'claim': 'Sen. Rand Paul criticizes the House...   \n",
       "\n",
       "                                   claim_estimations predicate_estimations  \\\n",
       "0  [{'domain': 'thehill.com', 'url': 'https://the...                    []   \n",
       "\n",
       "   fold  \n",
       "0   1.0  "
      ]
     },
     "execution_count": 11,
     "metadata": {},
     "output_type": "execute_result"
    }
   ],
   "source": [
    "filepath = '/home/services/siliang/ml_fakenews/data/politifact_547_gpt_main_claim_only_0315.csv'\n",
    "df = pd.read_csv(filepath)\n",
    "df.head(1)"
   ]
  },
  {
   "cell_type": "code",
   "execution_count": null,
   "metadata": {},
   "outputs": [],
   "source": [
    "eval(df.loc[0, 'gpt'])['overall_predictions']"
   ]
  },
  {
   "cell_type": "code",
   "execution_count": 16,
   "metadata": {},
   "outputs": [
    {
     "data": {
      "text/plain": [
       "{'claim_estimations': [{'domain': 'thehill.com',\n",
       "   'url': 'https://thehill.com/homenews/senate/4324160-congress-faces-spending-battle/',\n",
       "   'factual_reporting': 'MOSTLY FACTUAL',\n",
       "   'mbfc_credibility_rating': 'unknown',\n",
       "   'full_code': 'NatNews1',\n",
       "   'media_quality': 5,\n",
       "   'support_or_negate': 'partial support',\n",
       "   'confidence': 'medium',\n",
       "   'same_news': True,\n",
       "   'relevant': True,\n",
       "   'rationale': 'The search result confirms that Sen. Rand Paul criticizes the current federal spending levels, indicating he cannot support continuing resolutions that merely freeze federal spending, as this contributes to the national debt, which aligns with advocating for more significant spending cuts. However, there is no specific mention of Paul advocating for ending all foreign aid, making the claim only partially supported. The confidence level is medium due to the direct quote from Paul regarding spending but lack of evidence about his stance on ending all foreign aid.'},\n",
       "  {'domain': 'cnn.com',\n",
       "   'url': 'https://www.cnn.com/2018/02/08/politics/rand-paul-budget-cnntv/index.html',\n",
       "   'factual_reporting': 'MOSTLY FACTUAL',\n",
       "   'mbfc_credibility_rating': 'unknown',\n",
       "   'full_code': 'NatNews1',\n",
       "   'media_quality': 5,\n",
       "   'support_or_negate': 'partial support',\n",
       "   'confidence': 'medium',\n",
       "   'same_news': True,\n",
       "   'relevant': True,\n",
       "   'rationale': \"The search result confirms that Sen. Rand Paul criticized his fellow Republicans for 'hypocrisy' in their budget plan, particularly for criticizing President Obama for adding to the US deficit and then proposing a budget that also adds a trillion-dollar deficit. This supports the claim that Sen. Rand Paul criticizes the House GOP budget for not adequately addressing the federal deficit. However, the search result does not provide any information about Sen. Rand Paul advocating for more significant spending cuts, including a controversial stance on ending all foreign aid. Therefore, the claim is only partially supported, and the confidence level is medium due to the lack of information on the specific aspects of spending cuts and the stance on foreign aid.\"},\n",
       "  {'domain': 'newsbreakapp.com',\n",
       "   'url': 'https://mp.newsbreakapp.com/post/64602912?sig=C32EF5AAC133C86EB632A5E65B18DB79',\n",
       "   'factual_reporting': 'unknown',\n",
       "   'mbfc_credibility_rating': 'unknown',\n",
       "   'full_code': 'NatNews10',\n",
       "   'media_quality': 4,\n",
       "   'support_or_negate': 'partial support',\n",
       "   'confidence': 'medium',\n",
       "   'same_news': False,\n",
       "   'relevant': True,\n",
       "   'rationale': \"The search result confirms Senator Rand Paul's advocacy for significant spending cuts and his focus on reducing foreign aid, particularly to anti-American countries and Palestinian governments unless they meet specific conditions. However, the claim that Senator Paul criticizes the House GOP budget for not adequately addressing the federal deficit is not directly supported by the provided text. The search result does not mention Senator Paul's views on the House GOP budget specifically. Therefore, while the search result supports the aspect of advocating for more significant spending cuts and a stance on ending certain foreign aid, it does not confirm his criticism of the House GOP budget's approach to the federal deficit.\"},\n",
       "  {'domain': 'senate.gov',\n",
       "   'url': 'https://www.paul.senate.gov/icymi-dr-rand-paul-speaks-on-senate-floor-in-opposition-to-foreign-aid-spending-bill/',\n",
       "   'factual_reporting': 'unknown',\n",
       "   'mbfc_credibility_rating': 'unknown',\n",
       "   'full_code': 'NatInfo1',\n",
       "   'media_quality': 3,\n",
       "   'support_or_negate': 'negate',\n",
       "   'confidence': 'high',\n",
       "   'same_news': False,\n",
       "   'relevant': True,\n",
       "   'rationale': 'The search result does not mention Sen. Rand Paul criticizing the House GOP budget specifically for not adequately addressing the federal deficit or advocating for more significant spending cuts, including ending all foreign aid. Instead, it focuses on his opposition to a foreign aid spending bill, particularly concerning aid to Ukraine, and his stance on prioritizing American interests and border security over foreign aid. Therefore, the claim that he criticizes the House GOP budget for not addressing the federal deficit and advocates for ending all foreign aid is not supported by the information provided in the search result.'},\n",
       "  {'domain': 'kten.com',\n",
       "   'url': 'https://www.kten.com/story/50434123/rand-paul-vows-to-drag-out-senate-effort-to-pass-95-billion-foreign-aid-package',\n",
       "   'factual_reporting': 'unknown',\n",
       "   'mbfc_credibility_rating': 'unknown',\n",
       "   'full_code': 'LocalNews2',\n",
       "   'media_quality': 3,\n",
       "   'support_or_negate': 'negate',\n",
       "   'confidence': 'high',\n",
       "   'same_news': False,\n",
       "   'relevant': True,\n",
       "   'rationale': \"The search result does not mention Sen. Rand Paul criticizing the House GOP budget for not adequately addressing the federal deficit or advocating for more significant spending cuts, including ending all foreign aid. Instead, it focuses on Sen. Paul's efforts to delay a $95 billion foreign aid package, specifically mentioning his desire to discuss priorities such as the US border over the border of Ukraine. There is no mention of a stance on ending all foreign aid or criticisms directed at the House GOP budget regarding the federal deficit. Therefore, the claim is negated by the absence of supporting information in the provided text.\"},\n",
       "  {'domain': 'tampafp.com',\n",
       "   'url': 'https://www.tampafp.com/kentucky-sen-rand-paul-warns-of-potential-disaster/',\n",
       "   'factual_reporting': 'MIXED',\n",
       "   'mbfc_credibility_rating': 'unknown',\n",
       "   'full_code': 'LocalNews4',\n",
       "   'media_quality': 3,\n",
       "   'support_or_negate': 'negate',\n",
       "   'confidence': 'high',\n",
       "   'same_news': False,\n",
       "   'relevant': True,\n",
       "   'rationale': 'The search result indicates that Sen. Rand Paul criticized omnibus spending bills and praised efforts to fund aid to Israel by cutting funding for the IRS, rather than criticizing the House GOP budget for not addressing the federal deficit or advocating for ending all foreign aid. In fact, Paul supported a specific instance of foreign aid (to Israel) being funded through budget reallocations. This directly contradicts the claim that he advocates for more significant spending cuts by ending all foreign aid.'},\n",
       "  {'domain': 'thehill.com',\n",
       "   'url': 'https://thehill.com/opinion/congress-blog/4483599-congress-should-be-forced-to-offset-all-emergency-spending/',\n",
       "   'factual_reporting': 'MOSTLY FACTUAL',\n",
       "   'mbfc_credibility_rating': 'unknown',\n",
       "   'full_code': 'NatNews1',\n",
       "   'media_quality': 5,\n",
       "   'support_or_negate': 'partial support',\n",
       "   'confidence': 'medium',\n",
       "   'same_news': False,\n",
       "   'relevant': True,\n",
       "   'rationale': \"The search result indicates that Sen. Rand Paul is indeed concerned about the federal deficit and advocates for spending cuts through his 'Six Penny Plan,' which aims to cut federal spending by 5 percent in fiscal 2024 and 2025. This supports the claim that Sen. Rand Paul criticizes budget approaches that do not adequately address the federal deficit and advocates for more significant spending cuts. However, the search result does not specifically mention Sen. Rand Paul advocating for ending all foreign aid, which is a part of the claim. Therefore, the support for the claim is only partial, as there is no evidence in the provided text to support the stance on ending all foreign aid.\"},\n",
       "  {'domain': 'newsbreakapp.com',\n",
       "   'url': 'https://mp.newsbreakapp.com/post/68101620?sig=3CE7BB10D99350E2C7BDF5A0934AEF4C',\n",
       "   'factual_reporting': 'unknown',\n",
       "   'mbfc_credibility_rating': 'unknown',\n",
       "   'full_code': 'NatNews10',\n",
       "   'media_quality': 4,\n",
       "   'support_or_negate': 'baseless',\n",
       "   'confidence': 'high',\n",
       "   'same_news': False,\n",
       "   'relevant': True,\n",
       "   'rationale': \"The search result does not mention Sen. Rand Paul's stance on the House GOP budget or his views on addressing the federal deficit through more significant spending cuts, including ending all foreign aid. The content focuses on his criticism of a specific $468 billion spending bill for containing wasteful and unconstitutional spending, without any reference to the House GOP budget or foreign aid. Therefore, the claim cannot be supported or negated based on the provided information.\"},\n",
       "  {'domain': 'cbsnews.com',\n",
       "   'url': 'https://www.cbsnews.com/news/sen-rand-paul-face-the-nation-gop-hypocrisy-on-debt-deficits/',\n",
       "   'factual_reporting': 'HIGH',\n",
       "   'mbfc_credibility_rating': 'unknown',\n",
       "   'full_code': 'NatNews1',\n",
       "   'media_quality': 5,\n",
       "   'support_or_negate': 'partial support',\n",
       "   'confidence': 'medium',\n",
       "   'same_news': False,\n",
       "   'relevant': True,\n",
       "   'rationale': \"The search result confirms that Sen. Rand Paul criticizes GOP members for being 'hypocritical' about the federal deficit, highlighting their support for both tax cuts and spending increases, which aligns with the claim's mention of Paul advocating for more significant spending cuts. However, the search result does not provide any specific information about Paul advocating for ending all foreign aid, which is a significant part of the claim. Therefore, while the search result supports the notion that Paul is critical of the GOP's handling of the federal deficit and advocates for spending cuts, it does not confirm his stance on ending all foreign aid.\"},\n",
       "  {'domain': 'washingtonpost.com',\n",
       "   'url': 'https://www.washingtonpost.com/blogs/fact-checker/post/rand-pauls-misleading-budget-cuts/2013/02/15/6f68014a-77b8-11e2-95e4-6148e45d7adb_blog.html',\n",
       "   'factual_reporting': 'MOSTLY FACTUAL',\n",
       "   'mbfc_credibility_rating': 'unknown',\n",
       "   'full_code': 'NatNews1',\n",
       "   'media_quality': 5,\n",
       "   'support_or_negate': 'partial support',\n",
       "   'confidence': 'high',\n",
       "   'same_news': False,\n",
       "   'relevant': True,\n",
       "   'rationale': \"The search result confirms that Sen. Rand Paul advocates for significant spending cuts, including ending all foreign aid to countries that are hostile towards the United States, which aligns with part of the claim. However, the search result does not specifically address Paul's criticism of the House GOP budget regarding the federal deficit, thus only partially supporting the claim. The high confidence level is due to the clear evidence provided in the search result about Paul's stance on spending cuts and foreign aid.\"},\n",
       "  {'domain': 'crfb.org',\n",
       "   'url': 'https://www.crfb.org/blogs/sen-rand-paul-proposes-500b-annual-spending-cuts',\n",
       "   'factual_reporting': 'HIGH',\n",
       "   'mbfc_credibility_rating': 'unknown',\n",
       "   'full_code': '',\n",
       "   'media_quality': '',\n",
       "   'support_or_negate': 'partial support',\n",
       "   'confidence': 'medium',\n",
       "   'same_news': False,\n",
       "   'relevant': True,\n",
       "   'rationale': \"The search result does not explicitly mention Sen. Rand Paul criticizing the House GOP budget for not adequately addressing the federal deficit. However, it does support the part of the claim regarding Sen. Paul advocating for more significant spending cuts, as evidenced by his proposal for a $507 billion reduction in annual federal spending, which is described as the most aggressive plan to date. The search result also confirms Sen. Paul's stance on ending all foreign aid, as it mentions his proposal to eliminate international assistance programs. The claim is partially supported because the search result confirms his advocacy for significant spending cuts and ending all foreign aid but does not address his criticism of the House GOP budget.\"},\n",
       "  {'domain': 'politico.com',\n",
       "   'url': 'https://www.politico.com/live-updates/2024/01/18/congress/rand-paul-palestinian-aid-push-falls-senate-00136352',\n",
       "   'factual_reporting': 'HIGH',\n",
       "   'mbfc_credibility_rating': 'unknown',\n",
       "   'full_code': 'NatNews1',\n",
       "   'media_quality': 5,\n",
       "   'support_or_negate': 'partial support',\n",
       "   'confidence': 'medium',\n",
       "   'same_news': False,\n",
       "   'relevant': True,\n",
       "   'rationale': \"The search result indicates that Senator Rand Paul made an effort to limit U.S. aid to Palestinians, which aligns with the claim's mention of his advocacy for significant spending cuts, including on foreign aid. However, the search result does not provide information about his criticism of the House GOP budget regarding the federal deficit, nor does it confirm his stance on ending all foreign aid. Therefore, the evidence partially supports the claim but lacks comprehensive details to fully support the entire claim.\"}],\n",
       " 'predicate_estimations': []}"
      ]
     },
     "execution_count": 16,
     "metadata": {},
     "output_type": "execute_result"
    }
   ],
   "source": [
    "eval(df.loc[0, 'gpt'])['features']"
   ]
  },
  {
   "cell_type": "code",
   "execution_count": 9,
   "metadata": {},
   "outputs": [
    {
     "data": {
      "text/plain": [
       "label\n",
       "real    284\n",
       "fake    263\n",
       "Name: count, dtype: int64"
      ]
     },
     "execution_count": 9,
     "metadata": {},
     "output_type": "execute_result"
    }
   ],
   "source": [
    "df.label.value_counts()"
   ]
  },
  {
   "cell_type": "code",
   "execution_count": 5,
   "metadata": {},
   "outputs": [
    {
     "name": "stdout",
     "output_type": "stream",
     "text": [
      "547\n"
     ]
    }
   ],
   "source": [
    "total_data = []\n",
    "filepath = '/home/services/siliang/fakenews/FakeNewsNet-main/data_gen/politifact_547.jsonl'\n",
    "with open(filepath) as f:\n",
    "    for line in f:\n",
    "        dic = json.loads(line)\n",
    "        total_data.append(dic)\n",
    "print(len(total_data))"
   ]
  },
  {
   "cell_type": "code",
   "execution_count": 8,
   "metadata": {},
   "outputs": [
    {
     "data": {
      "text/plain": [
       "label\n",
       "real    284\n",
       "fake    263\n",
       "Name: count, dtype: int64"
      ]
     },
     "execution_count": 8,
     "metadata": {},
     "output_type": "execute_result"
    }
   ],
   "source": [
    "df = pd.DataFrame(total_data)\n",
    "df.label.value_counts()"
   ]
  },
  {
   "cell_type": "code",
   "execution_count": 6,
   "metadata": {},
   "outputs": [
    {
     "data": {
      "text/plain": [
       "{'id': 'real_0',\n",
       " 'title': \"ABC News Exclusive: Rand Paul Says Republicans 'Aren't Maybe Brave Enough' to Tackle Deficit\",\n",
       " 'text': 'Feb. 4, 2011 — -- In an exclusive interview with ABC News, Sen. Rand Paul, R-Ky., took aim at the newly released House GOP budget, saying it falls far short of what needs to be done to deal with the federal deficit.\\n\\n\"It\\'s really not going to touch the problem,\" Paul said. \"There\\'s a disconnect between Republicans who want a balanced budget but aren\\'t maybe yet brave enough to talk about the cuts to come.\"\\n\\nThe plan by House Budget Committee Chairman Paul Ryan, R-Wis., released on Thursday, would cut non-security discretionary spending by $58 billion by the end of fiscal year 2011, which ends on Sept. 30.\\n\\nIn an far-ranging interview aboard the Capitol Subway, Paul embraced the label \"true believer\" and said staying true to the principles of the Tea Party movement is more important to him than being a Republican. He also refused to rule out a future run for president and suggested it may be time to reduce U.S. force levels in Afghanistan.\\n\\nPaul has proposed his own plan to cut spending by $500 billion this year. Paul\\'s plan would impose deep across-the-board spending cuts -- including a reduction of 83 percent from the Department of Education, 6 percent from the Department of Defense and the elimination all foreign aid. He considers it just a start.\\n\\n\"I go to a tea party and you know what they say to me? It\\'s not enough. It\\'s not enough. Where\\'s the other trillion you need?\" Paul said.\\n\\nPaul defended his call to end to all foreign aid -- including the $3 billion the U.S. gives to Israel every year.\\n\\n\"I\\'m not singling out Israel. I support Israel. I want to be known as a friend of Israel,\" Paul said, \"but not with money you don\\'t have. We can\\'t just borrow from our kids\\' future and give it to countries even if they are our friends.\"\\n\\nPaul has come under fire from supporters of Israel, but said Israel has enough financial resources to fend for itself.\\n\\n\"I think they\\'re an important ally, but I also think that their per capita income is greater than probably three-fourths of the rest of the world,\" Paul said. \"Should we be giving free money or welfare to a wealthy nation? I don\\'t think so.\"\\n\\nAnd military resources, as well.\\n\\n\"I think they\\'re probably 10 years ahead of any neighboring country,\" he said. \"I think that their defense is very significant and probably well in advance of any of their particular enemies.\"',\n",
       " 'url': 'http://abcnews.go.com/Politics/rand-paul-republicans-arent-brave-tackle-deficit/story?id=12837636&page=1',\n",
       " 'label': 'real'}"
      ]
     },
     "execution_count": 6,
     "metadata": {},
     "output_type": "execute_result"
    }
   ],
   "source": [
    "total_data[0]"
   ]
  },
  {
   "cell_type": "code",
   "execution_count": null,
   "metadata": {},
   "outputs": [],
   "source": [
    "filepath = '../data/politifact_547_gpt_main_claim_only_rationale_0315.jsonl'"
   ]
  }
 ],
 "metadata": {
  "kernelspec": {
   "display_name": "py10",
   "language": "python",
   "name": "python3"
  },
  "language_info": {
   "codemirror_mode": {
    "name": "ipython",
    "version": 3
   },
   "file_extension": ".py",
   "mimetype": "text/x-python",
   "name": "python",
   "nbconvert_exporter": "python",
   "pygments_lexer": "ipython3",
   "version": "3.10.12"
  }
 },
 "nbformat": 4,
 "nbformat_minor": 2
}
