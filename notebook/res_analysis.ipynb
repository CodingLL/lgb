{
 "cells": [
  {
   "cell_type": "code",
   "execution_count": 2,
   "metadata": {},
   "outputs": [],
   "source": [
    "import os, json, collections, copy\n",
    "import pandas as pd\n",
    "import numpy as np\n",
    "from ast import literal_eval\n",
    "from sklearn.metrics import recall_score, precision_score, f1_score, accuracy_score"
   ]
  },
  {
   "cell_type": "code",
   "execution_count": null,
   "metadata": {},
   "outputs": [],
   "source": [
    "filepath = '../data/buzzfeed_1267_gpt.csv'\n",
    "df = pd.read_csv(filepath)\n",
    "print(df.shape)\n",
    "df.head(2)\n",
    "\n",
    "filepath = '../data/buzzfeed182_gpt.csv'\n",
    "df2 = pd.read_csv(filepath)\n",
    "print(df2.shape)\n",
    "df2.head(2)"
   ]
  },
  {
   "cell_type": "code",
   "execution_count": null,
   "metadata": {},
   "outputs": [],
   "source": [
    "def get_mv_num(df):\n",
    "    new_data = []\n",
    "    for index, row in df.iterrows():\n",
    "        dic = row.to_dict()\n",
    "        claim_estimations = literal_eval(dic['claim_estimations'])\n",
    "        support_or_negate_stat = {'support': 0, 'baseless': 0, 'negate': 0}\n",
    "        for est in claim_estimations:\n",
    "            support_or_negate = est['support_or_negate']\n",
    "            support_or_negate_stat[f'{support_or_negate}'] += 1\n",
    "        for k, v in support_or_negate_stat.items():\n",
    "            dic[k] = v\n",
    "        new_data.append(dic)\n",
    "    print(len(new_data))\n",
    "    new_df = pd.DataFrame(new_data)\n",
    "    return new_df\n",
    "new_df = get_mv_num(df)\n",
    "new_df2 = get_mv_num(df2)"
   ]
  },
  {
   "cell_type": "code",
   "execution_count": null,
   "metadata": {},
   "outputs": [],
   "source": [
    "new_df.head()"
   ]
  },
  {
   "cell_type": "code",
   "execution_count": null,
   "metadata": {},
   "outputs": [],
   "source": [
    "keys = ['support', 'baseless', 'negate']\n",
    "print('------------buzzfeed16k------------')\n",
    "print(new_df.groupby('label')[keys].mean())\n",
    "print('------------buzzfeed182------------')\n",
    "print(new_df2.groupby('label')[keys].mean())"
   ]
  },
  {
   "cell_type": "code",
   "execution_count": null,
   "metadata": {},
   "outputs": [],
   "source": [
    "total_data = []\n",
    "filepath = '/home/services/siliang/ml_fakenews/data/buzzfeed182_gpt.jsonl'\n",
    "with open(filepath) as f:\n",
    "    for line in f:\n",
    "        dic = json.loads(line)\n",
    "        total_data.append(dic)\n",
    "print(len(total_data))"
   ]
  },
  {
   "cell_type": "code",
   "execution_count": null,
   "metadata": {},
   "outputs": [],
   "source": [
    "total_data[0]['gpt'].keys()"
   ]
  },
  {
   "cell_type": "code",
   "execution_count": null,
   "metadata": {},
   "outputs": [],
   "source": [
    "filepath = '/home/services/siliang/ml_fakenews/exp/buzzfeed182_gpt/result.csv'\n",
    "df = pd.read_csv(filepath)\n",
    "print(df.shape)\n",
    "df.head(1)"
   ]
  },
  {
   "cell_type": "code",
   "execution_count": null,
   "metadata": {},
   "outputs": [],
   "source": [
    "filepath = '/home/services/siliang/ml_fakenews/data/buzzfeed182_gpt.csv'\n",
    "df = pd.read_csv(filepath)\n",
    "print(df.shape)\n",
    "df.head(1)"
   ]
  },
  {
   "cell_type": "markdown",
   "metadata": {},
   "source": [
    "## 没搜到的case"
   ]
  },
  {
   "cell_type": "code",
   "execution_count": null,
   "metadata": {},
   "outputs": [],
   "source": [
    "total_data = []\n",
    "filepath = '/home/services/siliang/ml_fakenews/data/buzzfeed182_gpt.jsonl'\n",
    "with open(filepath) as f:\n",
    "    for line in f:\n",
    "        dic = json.loads(line)\n",
    "        total_data.append(dic)\n",
    "print(len(total_data))"
   ]
  },
  {
   "cell_type": "code",
   "execution_count": null,
   "metadata": {},
   "outputs": [],
   "source": [
    "no_fea = []\n",
    "for d in total_data:\n",
    "    overall_predictions = d['gpt']['features']['claim_estimations']\n",
    "    if not overall_predictions:\n",
    "        no_fea.append(d)"
   ]
  },
  {
   "cell_type": "code",
   "execution_count": null,
   "metadata": {},
   "outputs": [],
   "source": [
    "np.max([])"
   ]
  },
  {
   "cell_type": "code",
   "execution_count": null,
   "metadata": {},
   "outputs": [],
   "source": [
    "df = pd.read_csv('/home/services/siliang/ml_fakenews/data/buzzfeed_1267_gpt_v2.csv')\n",
    "print(df.shape)"
   ]
  },
  {
   "cell_type": "code",
   "execution_count": null,
   "metadata": {},
   "outputs": [],
   "source": [
    "total_data = []\n",
    "filepath = '/home/services/siliang/ml_fakenews/data/buzzfeed182_gpt.jsonl'\n",
    "with open(filepath) as f:\n",
    "    for line in f:\n",
    "        dic = json.loads(line)\n",
    "        total_data.append(dic)\n",
    "# print(len(total_data))"
   ]
  },
  {
   "cell_type": "code",
   "execution_count": null,
   "metadata": {},
   "outputs": [],
   "source": [
    "titletextset = set()\n",
    "for d in total_data:\n",
    "    titletextset.add(d['title']+d['text'])\n",
    "print(len(titletextset))"
   ]
  },
  {
   "cell_type": "code",
   "execution_count": null,
   "metadata": {},
   "outputs": [],
   "source": [
    "total_data = []\n",
    "filepath = '../data/buzzfeed_1267_2model.jsonl'\n",
    "with open(filepath) as f:\n",
    "    for line in f:\n",
    "        dic = json.loads(line)\n",
    "        total_data.append(dic)\n",
    "print(total_data)\n",
    "\n",
    "titletextset = set()\n",
    "for d in total_data:\n",
    "    titletextset.add(d['title']+d['text'])\n",
    "print(len(titletextset))"
   ]
  },
  {
   "cell_type": "code",
   "execution_count": null,
   "metadata": {},
   "outputs": [],
   "source": [
    "print(len(titletextset))"
   ]
  },
  {
   "cell_type": "markdown",
   "metadata": {},
   "source": [
    "## 特征重复问题"
   ]
  },
  {
   "cell_type": "code",
   "execution_count": null,
   "metadata": {},
   "outputs": [],
   "source": [
    "filepath = '/home/services/siliang/ml_fakenews/data/buzzfeed182_gpt.csv'\n",
    "df = pd.read_csv(filepath)"
   ]
  },
  {
   "cell_type": "code",
   "execution_count": null,
   "metadata": {},
   "outputs": [],
   "source": [
    "df.shape"
   ]
  },
  {
   "cell_type": "code",
   "execution_count": null,
   "metadata": {},
   "outputs": [],
   "source": [
    "## 导出case看下规律\n",
    "filepath = '/home/services/siliang/ml_fakenews/exp/buzzfeed182_gpt_5fold/result.csv'\n",
    "df = pd.read_csv(filepath)\n",
    "print(df.shape)"
   ]
  },
  {
   "cell_type": "code",
   "execution_count": null,
   "metadata": {},
   "outputs": [],
   "source": [
    "df.head()"
   ]
  },
  {
   "cell_type": "code",
   "execution_count": null,
   "metadata": {},
   "outputs": [],
   "source": [
    "preds = list(df.preds.values)\n",
    "labels = list(df.label.values)"
   ]
  },
  {
   "cell_type": "code",
   "execution_count": null,
   "metadata": {},
   "outputs": [],
   "source": [
    "import warnings\n",
    "warnings.filterwarnings('ignore')\n",
    "thresholds = [i/100 for i in range(101)]\n",
    "best_f1 = 0\n",
    "for thrd in thresholds:\n",
    "    preds_bool = [i > thrd for i in preds]\n",
    "    recall = recall_score(labels, preds_bool)\n",
    "    precision = precision_score(labels, preds_bool)\n",
    "    f1 = f1_score(labels, preds_bool)\n",
    "    accuracy = accuracy_score(labels, preds_bool)\n",
    "    if f1 > best_f1:\n",
    "        best_thrd, best_recall, best_precision, best_f1, best_acc = thrd, recall, precision, f1, accuracy\n",
    "print('thrd: {:.4f} recall: {:.4f}, precision: {:.4f}, f1: {:.4f}, accuracy: {:.4f}'.format(best_thrd, best_recall, best_precision, best_f1, best_acc))"
   ]
  },
  {
   "cell_type": "code",
   "execution_count": null,
   "metadata": {},
   "outputs": [],
   "source": [
    "filepath = '../data/buzzfeed182_gpt.csv'\n",
    "df = pd.read_csv(filepath)\n",
    "df.head(1)"
   ]
  },
  {
   "cell_type": "code",
   "execution_count": null,
   "metadata": {},
   "outputs": [],
   "source": [
    "filepath = '/home/services/siliang/ml_fakenews/data/buzzfeed182_gpt_rerun_0314.csv'\n",
    "df = pd.read_csv(filepath)\n",
    "df.head(1)"
   ]
  },
  {
   "cell_type": "code",
   "execution_count": null,
   "metadata": {},
   "outputs": [],
   "source": [
    "snset = set()\n",
    "for index, row in df.iterrows():\n",
    "    for info in literal_eval(row['claim_estimations']):\n",
    "        support_or_negate = info['support_or_negate']\n",
    "        snset.add(support_or_negate)\n",
    "print(snset)"
   ]
  },
  {
   "cell_type": "code",
   "execution_count": null,
   "metadata": {},
   "outputs": [],
   "source": [
    "def get_support_medianum(domain_list):\n",
    "\n",
    "    support_list = []\n",
    "    for d in domain_list:\n",
    "        sn = d[\"support_or_negate\"]\n",
    "        sn = 1 if sn == \"support\" else -1 if sn == \"negate\" else 0\n",
    "        media_quality = d[\"media_quality\"]\n",
    "        if not media_quality:\n",
    "            media_quality = 3\n",
    "        # confidence = d[\"confidence\"]\n",
    "        if sn == 1:\n",
    "            support_list.append(media_quality)\n",
    "    # print(support_list)\n",
    "    if not support_list:\n",
    "        return 0, 0, 0, 0, 0, 0, 0, 0\n",
    "    return np.mean(support_list), np.max(support_list), np.min(support_list), np.sum(support_list), support_list.count(5), support_list.count(4), support_list.count(3), support_list.count(2), support_list.count(1)\n",
    "\n",
    "\n",
    "df[\"claim_estimations\"].apply(lambda x: pd.Series(get_support_medianum(literal_eval(x))))"
   ]
  },
  {
   "cell_type": "code",
   "execution_count": null,
   "metadata": {},
   "outputs": [],
   "source": [
    "filepath = '/home/services/siliang/ml_fakenews/data/buzzfeed182_gpt_rerun_0314_rationale.csv'\n",
    "df = pd.read_csv(filepath)\n",
    "df[\"gpt_rationale_score\"] = df[\"gpt_rating\"].apply(lambda x: eval(x)['rating'])# x['gpt_rating']['rating'])"
   ]
  },
  {
   "cell_type": "code",
   "execution_count": null,
   "metadata": {},
   "outputs": [],
   "source": [
    "total_data = []\n",
    "filepath = '/home/services/siliang/ml_fakenews/data/buzzfeed182_gpt_v2_rationale.jsonl'\n",
    "savepath = '/home/services/siliang/ml_fakenews/data/buzzfeed182_gpt_v2_rationale.csv'\n",
    "\n",
    "filepath = '/home/services/siliang/ml_fakenews/data/buzzfeed182_gpt_rerun_0314_rationale.jsonl'\n",
    "savepath= '/home/services/siliang/ml_fakenews/data/buzzfeed182_gpt_rerun_0314_rationale.csv'\n",
    "with open(filepath) as f:\n",
    "    for line in f:\n",
    "        dic = json.loads(line)\n",
    "        if not isinstance(dic['gpt_rating'],dict):\n",
    "            print(dic['gpt_rating'])\n",
    "            if not isinstance(dic['gpt_rating']['rating'], int):\n",
    "                print(dic['gpt_rating']['rating'])\n",
    "        total_data.append(dic)\n",
    "print(len(total_data))\n",
    "df = pd.DataFrame(total_data)\n",
    "df.to_csv(savepath)"
   ]
  },
  {
   "cell_type": "code",
   "execution_count": null,
   "metadata": {},
   "outputs": [],
   "source": [
    "[i['rating'] for i in df.loc[:, 'gpt_rating']]"
   ]
  },
  {
   "cell_type": "code",
   "execution_count": null,
   "metadata": {},
   "outputs": [],
   "source": [
    "filepath = '/home/services/siliang/ml_fakenews/data/buzzfeed182_gpt_v2_rationale.csv'\n",
    "df = pd.read_csv(filepath)\n",
    "df.head(1)"
   ]
  },
  {
   "cell_type": "code",
   "execution_count": null,
   "metadata": {},
   "outputs": [],
   "source": [
    "df[\"gpt_rationale_score\"] = df[\"gpt_rating\"].apply(lambda x: x['rating'])# x['gpt_rating']['rating'])"
   ]
  },
  {
   "cell_type": "code",
   "execution_count": null,
   "metadata": {},
   "outputs": [],
   "source": [
    "df[\"gpt_rationale_score\"] = df[[\"gpt_rating\"]].apply(lambda x: literal_eval(x['gpt_rating'])['rating'], axis=1)"
   ]
  },
  {
   "cell_type": "code",
   "execution_count": null,
   "metadata": {},
   "outputs": [],
   "source": [
    "filepath = '/home/services/siliang/ml_fakenews/data/politifact_547_gpt_main_claim_only_0315.csv'\n",
    "df = pd.read_csv(filepath)\n",
    "df.head(1)"
   ]
  },
  {
   "cell_type": "code",
   "execution_count": null,
   "metadata": {},
   "outputs": [],
   "source": [
    "eval(df.loc[0, 'gpt'])['overall_predictions']"
   ]
  },
  {
   "cell_type": "code",
   "execution_count": null,
   "metadata": {},
   "outputs": [],
   "source": [
    "eval(df.loc[0, 'gpt'])['features']"
   ]
  },
  {
   "cell_type": "code",
   "execution_count": null,
   "metadata": {},
   "outputs": [],
   "source": [
    "df.label.value_counts()"
   ]
  },
  {
   "cell_type": "code",
   "execution_count": null,
   "metadata": {},
   "outputs": [],
   "source": [
    "total_data = []\n",
    "filepath = '/home/services/siliang/fakenews/FakeNewsNet-main/data_gen/politifact_547.jsonl'\n",
    "with open(filepath) as f:\n",
    "    for line in f:\n",
    "        dic = json.loads(line)\n",
    "        total_data.append(dic)\n",
    "print(len(total_data))"
   ]
  },
  {
   "cell_type": "code",
   "execution_count": null,
   "metadata": {},
   "outputs": [],
   "source": [
    "df = pd.DataFrame(total_data)\n",
    "df.label.value_counts()"
   ]
  },
  {
   "cell_type": "code",
   "execution_count": null,
   "metadata": {},
   "outputs": [],
   "source": [
    "total_data[0]"
   ]
  },
  {
   "cell_type": "code",
   "execution_count": 5,
   "metadata": {},
   "outputs": [
    {
     "name": "stdout",
     "output_type": "stream",
     "text": [
      "547\n"
     ]
    }
   ],
   "source": [
    "filepath = '../data/politifact_547_gpt_main_claim_only_rationale_0315.jsonl'\n",
    "total_data = []\n",
    "with open(filepath) as f:\n",
    "    for line in f:\n",
    "        dic = json.loads(line)\n",
    "        total_data.append(dic)\n",
    "    print(len(total_data))"
   ]
  },
  {
   "cell_type": "code",
   "execution_count": 17,
   "metadata": {},
   "outputs": [
    {
     "name": "stdout",
     "output_type": "stream",
     "text": [
      "N/A\n"
     ]
    }
   ],
   "source": [
    "for data in total_data:\n",
    "    gpt_score = data['gpt_rating']['rating']\n",
    "    if isinstance(gpt_score, str):\n",
    "        print(gpt_score)\n",
    "        gpt_score = 5"
   ]
  }
 ],
 "metadata": {
  "kernelspec": {
   "display_name": "py10",
   "language": "python",
   "name": "python3"
  },
  "language_info": {
   "codemirror_mode": {
    "name": "ipython",
    "version": 3
   },
   "file_extension": ".py",
   "mimetype": "text/x-python",
   "name": "python",
   "nbconvert_exporter": "python",
   "pygments_lexer": "ipython3",
   "version": "3.10.12"
  }
 },
 "nbformat": 4,
 "nbformat_minor": 2
}
